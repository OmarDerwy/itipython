{
 "cells": [
  {
   "cell_type": "markdown",
   "metadata": {},
   "source": [
    "Python Simple Lab \n",
    "=====================\n",
    "Question 1\n",
    "a = [10, 20, 30, 20, 40, 50]\n",
    "Remove the first occurance of 20\n"
   ]
  },
  {
   "cell_type": "code",
   "execution_count": 1,
   "metadata": {},
   "outputs": [
    {
     "name": "stdout",
     "output_type": "stream",
     "text": [
      "[10, 30, 20, 40, 50]\n"
     ]
    }
   ],
   "source": [
    "a = [10, 20, 30, 20, 40, 50]\n",
    "a.remove(20)\n",
    "print(a)"
   ]
  },
  {
   "cell_type": "markdown",
   "metadata": {},
   "source": [
    "Question 2\n",
    "==============================================================================================\n",
    "Remove element at index 1 and return its value in val\n"
   ]
  },
  {
   "cell_type": "code",
   "execution_count": 2,
   "metadata": {},
   "outputs": [
    {
     "data": {
      "text/plain": [
       "30"
      ]
     },
     "execution_count": 2,
     "metadata": {},
     "output_type": "execute_result"
    }
   ],
   "source": [
    "a.pop(1)"
   ]
  },
  {
   "cell_type": "markdown",
   "metadata": {},
   "source": [
    "Question 3\n",
    "==============================================================================================\n",
    "a = [10, 20, 30, 40, 50, 60, 70]\n",
    "Removes elements from index 1 to index 3 (which are 20, 30, 40)\n"
   ]
  },
  {
   "cell_type": "code",
   "execution_count": 3,
   "metadata": {},
   "outputs": [
    {
     "name": "stdout",
     "output_type": "stream",
     "text": [
      "[10, 50, 60, 70]\n"
     ]
    }
   ],
   "source": [
    "#Removes elements from index 1 to index 3 (which are 20, 30, 40)\n",
    "a = [10, 20, 30, 40, 50, 60, 70]\n",
    "a[1:4] = []\n",
    "print(a)"
   ]
  },
  {
   "cell_type": "markdown",
   "metadata": {},
   "source": [
    "Question 4\n",
    "==============================================================================================\n",
    "a = [10, 20, 30, 40, 50, 60, 70]\n",
    "Remove all elements\n"
   ]
  },
  {
   "cell_type": "code",
   "execution_count": 4,
   "metadata": {},
   "outputs": [
    {
     "name": "stdout",
     "output_type": "stream",
     "text": [
      "[]\n"
     ]
    }
   ],
   "source": [
    "a = [10, 20, 30, 40, 50, 60, 70]\n",
    "a.clear()\n",
    "print(a)"
   ]
  },
  {
   "cell_type": "markdown",
   "metadata": {},
   "source": [
    "Question 5\n",
    "==============================================================================================\n",
    "Write a program that prints the number of times the substring 'iti' occurs in a string\n"
   ]
  },
  {
   "cell_type": "code",
   "execution_count": 6,
   "metadata": {},
   "outputs": [
    {
     "name": "stdout",
     "output_type": "stream",
     "text": [
      "8\n"
     ]
    }
   ],
   "source": [
    "a = \"itiitiitiitiitiiti Ia m in iti and i love iti because it is quality and it is free\"\n",
    "print(a.count('iti'))"
   ]
  },
  {
   "cell_type": "markdown",
   "metadata": {},
   "source": [
    "Question 6\n",
    "==============================================================================================\n",
    "application to take a number in binary form from the user, and print it as a decimal\n"
   ]
  },
  {
   "cell_type": "code",
   "execution_count": 3,
   "metadata": {},
   "outputs": [
    {
     "name": "stdout",
     "output_type": "stream",
     "text": [
      "340\n"
     ]
    }
   ],
   "source": [
    "a = input('Enter binary pls: ')\n",
    "if a and (a.count('1')+a.count('0') == len(a)):\n",
    "    print(int(a, 2))\n",
    "else:\n",
    "    print('error')"
   ]
  },
  {
   "cell_type": "markdown",
   "metadata": {},
   "source": [
    "Question 7\n",
    "==============================================================================================\n",
    "write a code take a number as an argument and if the number divisible by 3 return \"Fizz\" and if it is divisible by 5 return \"buzz\" and if is is divisible by both return \"FizzBuzz\"\n"
   ]
  },
  {
   "cell_type": "code",
   "execution_count": 8,
   "metadata": {},
   "outputs": [
    {
     "name": "stdout",
     "output_type": "stream",
     "text": [
      "Fizz\n"
     ]
    }
   ],
   "source": [
    "a = input('plese input number pls: ')\n",
    "\n",
    "if a and a.isnumeric():\n",
    "    a = int(a)\n",
    "    if a%3==0:\n",
    "        print('Fizz')\n",
    "    if a%5==0:\n",
    "        print('buzz')\n",
    "else:\n",
    "    print('error please input number pls')"
   ]
  },
  {
   "cell_type": "markdown",
   "metadata": {},
   "source": [
    "Question 8\n",
    "==============================================================================================\n",
    "Ask the user to enter the radius of a circle print its calculated area and circumference\n"
   ]
  },
  {
   "cell_type": "code",
   "execution_count": 13,
   "metadata": {},
   "outputs": [
    {
     "name": "stdout",
     "output_type": "stream",
     "text": [
      "area = 706.5\n",
      "circumference = 94.2\n"
     ]
    }
   ],
   "source": [
    "a = input('pleae enter radius of circle pls: ')\n",
    "if a and a.isnumeric():\n",
    "    a=int(a)\n",
    "    print(f'area = {3.14*(a**2)}')\n",
    "    print(f'circumference = {2*a*3.14}')\n",
    "else:\n",
    "    print('error pease enter num plsss')"
   ]
  },
  {
   "cell_type": "markdown",
   "metadata": {},
   "source": [
    "Question 9\n",
    "==============================================================================================\n",
    "Ask the user for his name then confirm that he has entered his name (not an empty string/integers).then proceed to ask him for his email and print all this data\n"
   ]
  },
  {
   "cell_type": "code",
   "execution_count": 17,
   "metadata": {},
   "outputs": [
    {
     "name": "stdout",
     "output_type": "stream",
     "text": [
      "pls user pls enter a valid email address pls\n"
     ]
    }
   ],
   "source": [
    "a = input('pls user, pls enter your name pls: ')\n",
    "if a:\n",
    "    b=input(f'hello {a}, pls please enter your email pls: ')\n",
    "    if b and (b.count('@') == 1 and b.count('.') > 0):\n",
    "        print(f'Your name is: {a} \\nYour email is: {b}\\n')\n",
    "    else:\n",
    "        print('pls user pls enter a valid email address pls')\n",
    "else:\n",
    "    print('user pls dont enter fake data ya user')"
   ]
  }
 ],
 "metadata": {
  "kernelspec": {
   "display_name": "Python 3",
   "language": "python",
   "name": "python3"
  },
  "language_info": {
   "codemirror_mode": {
    "name": "ipython",
    "version": 3
   },
   "file_extension": ".py",
   "mimetype": "text/x-python",
   "name": "python",
   "nbconvert_exporter": "python",
   "pygments_lexer": "ipython3",
   "version": "3.13.0"
  }
 },
 "nbformat": 4,
 "nbformat_minor": 2
}
