{
 "cells": [
  {
   "cell_type": "markdown",
   "metadata": {},
   "source": [
    "Question 1 :\n",
    "===\n",
    "Write a simple calculator program using match to perform addition, subtraction, multiplication, and division.\n",
    "\n",
    "operation = \"add\"\n",
    "\n",
    "a, b = 10, 5\n",
    "**Expected Output: 15**"
   ]
  },
  {
   "cell_type": "code",
   "execution_count": 5,
   "metadata": {},
   "outputs": [
    {
     "name": "stdout",
     "output_type": "stream",
     "text": [
      "98\n"
     ]
    }
   ],
   "source": [
    "a = input('please select operator from one of the following operators (add, sub, mul, div): ')\n",
    "b = int(input('please input first operand'))\n",
    "c = int(input('please input the second operand'))\n",
    "\n",
    "match a:\n",
    "    case 'add':\n",
    "        print(b+c)\n",
    "    case 'sub':\n",
    "        print(b-c)\n",
    "    case 'mul':\n",
    "        print(b*c)\n",
    "    case 'div':\n",
    "        print(b/c)\n",
    "    case _:\n",
    "        print('please enter a valid operator')\n",
    "\n",
    "        \n",
    "    "
   ]
  },
  {
   "cell_type": "markdown",
   "metadata": {},
   "source": [
    "Question 2 :\n",
    "===\n",
    "Write a program to filter out even numbers from a list and count how many are left.\n",
    "\n",
    "numbers = [1, 2, 3, 4, 5, 6, 7, 8, 9, 10]\n",
    "\n",
    "**Expected Output: [1, 3, 5, 7, 9], Count = 5**"
   ]
  },
  {
   "cell_type": "code",
   "execution_count": 11,
   "metadata": {},
   "outputs": [
    {
     "name": "stdout",
     "output_type": "stream",
     "text": [
      "[1, 3, 5, 7, 9] len(filtered)=5\n"
     ]
    }
   ],
   "source": [
    "def myfunc(a):\n",
    "    return a%2!=0\n",
    "\n",
    "numbers = [1, 2, 3, 4, 5, 6, 7, 8, 9, 10]\n",
    "filtered = list(filter(myfunc, numbers))\n",
    "print(list(filter(myfunc, numbers)), f\"{len(filtered)=}\")"
   ]
  },
  {
   "cell_type": "markdown",
   "metadata": {},
   "source": [
    "Question 3 :\n",
    "===\n",
    "Write a program to check if a password meets the following criteria:\n",
    "- At least 8 characters long.\n",
    "- Contains at least one uppercase letter.\n",
    "- Contains at least one digit.\n",
    "\n",
    "password = \"Pass1234\""
   ]
  },
  {
   "cell_type": "code",
   "execution_count": 22,
   "metadata": {},
   "outputs": [
    {
     "name": "stdout",
     "output_type": "stream",
     "text": [
      "Please have at least one upper case letter\n"
     ]
    }
   ],
   "source": [
    "password = input('please input password ya user')\n",
    "problems = []\n",
    "if password.lower() == password: problems.append('Please have at least one upper case letter')\n",
    "# if len(password) < 8: problems.append('Please have the password be at least 8 characters long')\n",
    "if password.isalpha(): problems.append()\n",
    "flag = False\n",
    "for i in password:\n",
    "    if i.isnumeric():\n",
    "        flag=True\n",
    "if flag == False: problems.append('please have at least one digit in the password')\n",
    "\n",
    "if len(problems) > 0:\n",
    "    for i in problems:\n",
    "        print(i)\n",
    "else:\n",
    "    print('thank you!')"
   ]
  },
  {
   "cell_type": "markdown",
   "metadata": {},
   "source": [
    "Question 4: \n",
    "===\n",
    "Write a Python script to concatenate the following dictionaries to create a new one.\n",
    "\n",
    "Sample Dictionary :\n",
    "\n",
    "dic1={1:10, 2:20}\n",
    "\n",
    "dic2={3:30, 4:40}\n",
    "\n",
    "dic3={5:50,6:60}\n",
    "\n",
    "**Expected Result : {1: 10, 2: 20, 3: 30, 4: 40, 5: 50, 6: 60}**"
   ]
  },
  {
   "cell_type": "code",
   "execution_count": 29,
   "metadata": {},
   "outputs": [
    {
     "name": "stdout",
     "output_type": "stream",
     "text": [
      "{1: 10, 2: 20, 3: 30, 4: 40, 5: 50, 6: 60}\n"
     ]
    }
   ],
   "source": [
    "dic1={1:10, 2:20}\n",
    "dic2={3:30, 4:40}\n",
    "dic3={5:50,6:60}\n",
    "newdic={}\n",
    "newdic.update(dic1)\n",
    "newdic.update(dic2)\n",
    "newdic.update(dic3)\n",
    "print(newdic)"
   ]
  },
  {
   "cell_type": "markdown",
   "metadata": {},
   "source": [
    "Question 5: \n",
    "===\n",
    "takes a string and prints the longest\n",
    "\n",
    "alphabetical ordered substring occured.\n",
    "\n",
    "For example, if the string is 'abdulrahman' then the output is:\n",
    "\n",
    "Longest substring in alphabetical order is: abdu"
   ]
  },
  {
   "cell_type": "code",
   "execution_count": 36,
   "metadata": {},
   "outputs": [
    {
     "name": "stdout",
     "output_type": "stream",
     "text": [
      "orderedSubs=[6, 3, 2]\n",
      "max(orderedSubs)=6\n"
     ]
    }
   ],
   "source": [
    "string = 'abdelrahman'\n",
    "orderedSubs = []\n",
    "itr = 1\n",
    "prev = None\n",
    "for char in string:\n",
    "    if prev:\n",
    "        if char > prev:\n",
    "            itr+=1\n",
    "        else:\n",
    "            orderedSubs.append(itr)\n",
    "            itr = 1\n",
    "    prev = char\n",
    "else:\n",
    "    if itr:\n",
    "        orderedSubs.append(itr)\n",
    "print(f'{orderedSubs=}')\n",
    "print(f'{max(orderedSubs)=}')\n",
    "\n",
    "\n"
   ]
  },
  {
   "cell_type": "markdown",
   "metadata": {},
   "source": [
    "Question 6:\n",
    "===\n",
    "Write a program to check if a Email meets the following criteria:\n",
    "- Ensures the email follows a standard format (e.g., local@domain.com).\n",
    "- Does not check if the email actually exists or is deliverable."
   ]
  },
  {
   "cell_type": "code",
   "execution_count": 42,
   "metadata": {},
   "outputs": [
    {
     "name": "stdout",
     "output_type": "stream",
     "text": [
      "thank you for this good validated email\n",
      "\n",
      "\n",
      "\n",
      "\n",
      "\n",
      "\n",
      "yasta\n"
     ]
    }
   ],
   "source": [
    "a = input('Please input a valid email ya user: ')\n",
    "problems = []\n",
    "if a.count('@') != 1:\n",
    "    problems.append('you forgot the @ yasta')\n",
    "else:\n",
    "    atPosition = a.index('@')\n",
    "    if a[atPosition:].count('.') != 1:\n",
    "         problems.append('you forgot the . after the @ yasta')\n",
    "if len(problems) > 0:\n",
    "    for i in problems:\n",
    "        print(i)\n",
    "else:\n",
    "    print('thank you for this good validated email\\n\\n\\n\\n\\n\\n\\nyasta')\n",
    "    \n"
   ]
  }
 ],
 "metadata": {
  "kernelspec": {
   "display_name": "Python 3",
   "language": "python",
   "name": "python3"
  },
  "language_info": {
   "codemirror_mode": {
    "name": "ipython",
    "version": 3
   },
   "file_extension": ".py",
   "mimetype": "text/x-python",
   "name": "python",
   "nbconvert_exporter": "python",
   "pygments_lexer": "ipython3",
   "version": "3.13.0"
  }
 },
 "nbformat": 4,
 "nbformat_minor": 2
}
